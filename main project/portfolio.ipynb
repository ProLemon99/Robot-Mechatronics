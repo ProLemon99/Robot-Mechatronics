{
 "cells": [
  {
   "attachments": {},
   "cell_type": "markdown",
   "metadata": {},
   "source": [
    "# **Robot Mechatronics Project - Documentation Portfolio**\n",
    "\n",
    "# By ProLemon99 (10/05/24)"
   ]
  },
  {
   "attachments": {},
   "cell_type": "markdown",
   "metadata": {},
   "source": [
    "### **The Task**\n",
    "\n",
    "Our task is to program a Lego EV3 robot in micropython to autonomously move a red and a yellow Lego block into a goal zone without touching the blue and green blocks. The robot will also need to be tested multiple times thoroughly to ensure the functionality of the robots. Efficiency is key, overcomplicated code will only reduce efficiency and consistency. The robot will also need to be tested multiple times thoroughly to ensure the functionality of the robots. We will need to conduct lots of tests and apply problem-solving skills in order to achieve our goal."
   ]
  },
  {
   "attachments": {},
   "cell_type": "markdown",
   "metadata": {},
   "source": [
    "### **Project Direction**\n",
    "Our idea is to make the robot have long prongs to be able to either have the prongs go through the block or entrap the block between the prongs to move the block to the goal and then reverse out of it to leave the block in place. We are opting to not use the light or touch sensor in our project. We may use the Ultrasonic sensor but have concerns that external environmental variables will cause this not to work. By going for simple attachments and programming logic we will have the highest chance of getting the box into the two squares."
   ]
  },
  {
   "cell_type": "markdown",
   "metadata": {},
   "source": [
    "### **Success Criteria**\n",
    "#### Functional requirements\n",
    "* Be able to move forward, backward, and turn. \n",
    "   * The robot needs to be able to move forward and backward as it needs to move in order to collect the blocks.\n",
    "* Be able to make a block move into a desired position. \n",
    "   * The robot will need high-functional practical attachments that can easily pick up the blocks without trouble and allow for a small amount of error.\n",
    "* Be able to avoid collisions with other blocks. \n",
    "   * By having the robot at a sensible and practical size we can avoid collisions along with predefined logic and/or sensor data.\n",
    "* Make decisions without human intervention by using sensor and/or predefined logic. \n",
    "   * The robot must not use human interaction to complete its task, it needs to make decisions without human interaction to count as a valid test. It can achieve this by using sensor data (colour sensor, touch sensor and Ultrasonic sensor) or by using measurements to move the robot around.\n",
    "#### Non-functional requirements\n",
    "* Have neat cable management. \n",
    "   * Organising the wiring can improve aesthetics and make sure that wires will not drag along the ground which slightly improves reliability as the wires won’t get caught or tangled.\n",
    "* Have matching colour attachments. \n",
    "   * Improve aesthetics and having the exact same attachments on both sides make the attachment simpler to repair and replace. We can quickly identify if an attachment is broken by looking at the symmetrical attachment on the other side.\n",
    "* Have easy access to the buttons on the EV3 (to run the program). \n",
    "   * By having easy access to the run and play buttons allows us to use the EV3 software more conveniently.\n",
    "* Fast speed. \n",
    "   * Having a faster speed means that the robot can conduct more tests in a shorter amount of time.\n",
    "* Scalability. \n",
    "   * The program can be easily modified for future programs or more challenges."
   ]
  },
  {
   "attachments": {},
   "cell_type": "markdown",
   "metadata": {},
   "source": [
    "### **Pseudocode, Flowchart and Planned Route**\n",
    "\n",
    "#### Pseudocode\n",
    "BEGIN\n",
    "\n",
    "&nbsp; &nbsp; set MotorSpeed 50\n",
    "\n",
    "&nbsp; &nbsp; process PlaySound \"Beep\"\n",
    "\n",
    "&nbsp; &nbsp; process MoveForward 525mm\n",
    "\n",
    "&nbsp; &nbsp; process TurnRight 90 degrees\n",
    "\n",
    "&nbsp; &nbsp; process MoveForward 600mm\n",
    "\n",
    "&nbsp; &nbsp; process TurnRight 90 degrees\n",
    "\n",
    "&nbsp; &nbsp; process MoveForward 500mm\n",
    "\n",
    "&nbsp; &nbsp; process TurnRight 90 degrees\n",
    "\n",
    "&nbsp; &nbsp; process MoveForward 580mm\n",
    "\n",
    "&nbsp; &nbsp; process MoveBackward 70mm\n",
    "\n",
    "&nbsp; &nbsp; process PlaySound \"Beep\"\n",
    "\n",
    "&nbsp; &nbsp; process PlayVoice \"Mission completed successfully\"\n",
    "\n",
    "&nbsp; &nbsp; process TurnRight 1080 degrees\n",
    "\n",
    "END\n",
    "\n",
    "#### Flowchart\n",
    "\n",
    "<img src=\"images/flowchart.png\" alt=\"flowchart\" width=\"400\"/>\n",
    "\n",
    "#### Planned Route\n",
    "\n",
    "<img src=\"images/layout.jpg\" alt=\"layout\" width=\"400\"/>\n",
    "\n"
   ]
  },
  {
   "attachments": {},
   "cell_type": "markdown",
   "metadata": {},
   "source": [
    "### **Testing and debugging**\n",
    "\n",
    "**Test 1 resulted in failure on start due to a part of the robot getting stuck with the edge of the board when trying to perform a 90 degree turn, therefore the test was immediately rerun as test 2, so I will start by documenting test 2 instead of test 1. However, the code used for test 2 was the exact same code used for test 1, therefore there were no changes in the code of the robot. We had only moved the robot a bit more to the right of the box as the start position, and the issue was resolved.**\n",
    "\n",
    "**Lesson learnt. Never put the robot too close to the edges of the board as its start position or else it will result in immediate failure.**"
   ]
  },
  {
   "cell_type": "markdown",
   "metadata": {},
   "source": [
    "#### Test 2\n",
    "\n",
    "The test was not so well. The robot already travelled way too far before making its first turn. After it made its first turn, the robot was travelling too left to the place of the red block, and missed it. After that, it made its second turn, also missing the yellow block by a bit due to it travelling too short of a distance. Not only that, the robot travelled too far after missing the yellow block. It walked off the board, and walked another few centimetres before making its turn."
   ]
  },
  {
   "cell_type": "code",
   "execution_count": null,
   "metadata": {
    "vscode": {
     "languageId": "plaintext"
    }
   },
   "outputs": [],
   "source": [
    "#!/usr/bin/env pybricks-micropython\n",
    "\n",
    "\"\"\"\n",
    "Example LEGO® MINDSTORMS® EV3 Robot Educator Driving Base Program\n",
    "-----------------------------------------------------------------\n",
    "\n",
    "This program requires LEGO® EV3 MicroPython v2.0.\n",
    "Download: https://education.lego.com/en-us/support/mindstorms-ev3/python-for-ev3\n",
    "\n",
    "Building instructions can be found at:\n",
    "https://education.lego.com/en-us/support/mindstorms-ev3/building-instructions#robot\n",
    "\"\"\"\n",
    "\n",
    "from pybricks.hubs import EV3Brick\n",
    "from pybricks.ev3devices import Motor\n",
    "from pybricks.parameters import Port\n",
    "from pybricks.robotics import DriveBase\n",
    "\n",
    "# Initialize the EV3 Brick.\n",
    "ev3 = EV3Brick()\n",
    "\n",
    "# Initialize the motors.\n",
    "left_motor = Motor(Port.B)\n",
    "right_motor = Motor(Port.C)\n",
    "\n",
    "# Initialize the drive base.\n",
    "robot = DriveBase(left_motor, right_motor, wheel_diameter=55.5, axle_track=104)\n",
    "\n",
    "# The main code.\n",
    "ev3.speaker.beep()\n",
    "\n",
    "robot.straight(550)\n",
    "robot.turn(90)\n",
    "robot.straight(580)\n",
    "robot.turn(90)\n",
    "robot.straight(550)\n",
    "robot.turn(90)\n",
    "robot.straight(560)\n",
    "robot.straight(-70)\n",
    "\n",
    "ev3.speaker.beep()\n",
    "ev3.speaker.say(\"Mission completed successfully\")\n",
    "ev3.turn(1080)"
   ]
  },
  {
   "cell_type": "markdown",
   "metadata": {},
   "source": [
    "#### Test 2 Debugging Process\n",
    "\n",
    "I believe that the code itself has no problems, it's just that the numbers I used for how long the robot will need to travel to get the blocks and return to base are either set too high or too low. I changed the first distance number from 550 to 525 so the robot can travel shorter and hopefully it can catch the red block. The second distance number was increased from 580 to 620, so the robot has a chance to catch the yellow block by making it travel a longer distance. The third distance number was reduced from 550 to 525, in hope that it won't be walking off the board anymore. Everything else was left untouched."
   ]
  },
  {
   "attachments": {},
   "cell_type": "markdown",
   "metadata": {},
   "source": [
    "#### Test 3\n",
    "\n",
    "The robot was able travel to the location of the red block and was able to grab and hook it onto its left arm modification. However, the robot travelled too far this time and missed the yellow block by a bit on turn. It still travelled too far after missing the yellow block. Its left wheel rubbed against the edge of the board when it was making its turn, resulting in it to fall off the board and get stuck."
   ]
  },
  {
   "cell_type": "code",
   "execution_count": null,
   "metadata": {
    "vscode": {
     "languageId": "plaintext"
    }
   },
   "outputs": [],
   "source": [
    "#!/usr/bin/env pybricks-micropython\n",
    "\n",
    "\"\"\"\n",
    "Example LEGO® MINDSTORMS® EV3 Robot Educator Driving Base Program\n",
    "-----------------------------------------------------------------\n",
    "\n",
    "This program requires LEGO® EV3 MicroPython v2.0.\n",
    "Download: https://education.lego.com/en-us/support/mindstorms-ev3/python-for-ev3\n",
    "\n",
    "Building instructions can be found at:\n",
    "https://education.lego.com/en-us/support/mindstorms-ev3/building-instructions#robot\n",
    "\"\"\"\n",
    "\n",
    "from pybricks.hubs import EV3Brick\n",
    "from pybricks.ev3devices import Motor\n",
    "from pybricks.parameters import Port\n",
    "from pybricks.robotics import DriveBase\n",
    "\n",
    "# Initialize the EV3 Brick.\n",
    "ev3 = EV3Brick()\n",
    "\n",
    "# Initialize the motors.\n",
    "left_motor = Motor(Port.B)\n",
    "right_motor = Motor(Port.C)\n",
    "\n",
    "# Initialize the drive base.\n",
    "robot = DriveBase(left_motor, right_motor, wheel_diameter=55.5, axle_track=104)\n",
    "\n",
    "# The main code.\n",
    "ev3.speaker.beep()\n",
    "\n",
    "robot.straight(525)\n",
    "robot.turn(90)\n",
    "robot.straight(620)\n",
    "robot.turn(90)\n",
    "robot.straight(525)\n",
    "robot.turn(90)\n",
    "robot.straight(560)\n",
    "robot.straight(-70)\n",
    "\n",
    "ev3.speaker.beep()\n",
    "ev3.speaker.say(\"Mission completed successfully\")\n",
    "ev3.turn(1080)"
   ]
  },
  {
   "attachments": {},
   "cell_type": "markdown",
   "metadata": {},
   "source": [
    "#### Test 3 Debugging Process\n",
    "\n",
    "More measurements have been tracked and made with a tape measure, this time with more precision and accuracy. The numbers in the code that gives the robot signals of how far to travel are changed, and are all replaced with the renewed numbers of measured distances. The second distance number was reduced from 620 to 600 in hope that the robot can travel a shorter distance to catch the yellow block, and the third distance number was further reduced from 525 to 500 to prevent it from falling off the board again. Everything else was left untouched."
   ]
  },
  {
   "cell_type": "markdown",
   "metadata": {},
   "source": [
    "#### Test 4\n",
    "\n",
    "The robot worked better than last time. It was able to grab the red block as usual, and the distance it was supposed to travel was set to a perfect number, therfore it was able to grab the yellow block as well this time. The robot managed to turn for the last time without any problems (this time not falling off the board). However, the robot was off track when sending the blocks back to the base, resulting in the green block being knocking off by a bit. At the end, the robot also put a part of the red block outside of the base."
   ]
  },
  {
   "cell_type": "code",
   "execution_count": null,
   "metadata": {
    "vscode": {
     "languageId": "plaintext"
    }
   },
   "outputs": [],
   "source": [
    "#!/usr/bin/env pybricks-micropython\n",
    "\n",
    "\"\"\"\n",
    "Example LEGO® MINDSTORMS® EV3 Robot Educator Driving Base Program\n",
    "-----------------------------------------------------------------\n",
    "\n",
    "This program requires LEGO® EV3 MicroPython v2.0.\n",
    "Download: https://education.lego.com/en-us/support/mindstorms-ev3/python-for-ev3\n",
    "\n",
    "Building instructions can be found at:\n",
    "https://education.lego.com/en-us/support/mindstorms-ev3/building-instructions#robot\n",
    "\"\"\"\n",
    "\n",
    "from pybricks.hubs import EV3Brick\n",
    "from pybricks.ev3devices import Motor\n",
    "from pybricks.parameters import Port\n",
    "from pybricks.robotics import DriveBase\n",
    "\n",
    "# Initialize the EV3 Brick.\n",
    "ev3 = EV3Brick()\n",
    "\n",
    "# Initialize the motors.\n",
    "left_motor = Motor(Port.B)\n",
    "right_motor = Motor(Port.C)\n",
    "\n",
    "# Initialize the drive base.\n",
    "robot = DriveBase(left_motor, right_motor, wheel_diameter=55.5, axle_track=104)\n",
    "\n",
    "# The main code.\n",
    "ev3.speaker.beep()\n",
    "\n",
    "robot.straight(525)\n",
    "robot.turn(90)\n",
    "robot.straight(600)\n",
    "robot.turn(90)\n",
    "robot.straight(500)\n",
    "robot.turn(90)\n",
    "robot.straight(560)\n",
    "robot.straight(-70)\n",
    "\n",
    "ev3.speaker.beep()\n",
    "ev3.speaker.say(\"Mission completed successfully\")\n",
    "ev3.turn(1080)"
   ]
  },
  {
   "cell_type": "markdown",
   "metadata": {},
   "source": [
    "#### Test 4 Debugging Process\n",
    "\n",
    "We were extra careful when making the measurements, this time with precise consideration of start positions. After we have measured the new lengths, we implemented them into our new code and hoped for the best in our next test. We increased the fourth distance number from 560 to 580 so that the robot can fully bring the red block into the base instead of placing a part of it outside. The amount of degrees for which the robot will need to do to perform its last turn was changed from 90 to 100 so that the robot does not go off track and knock into the green block. Everything else was left untouched."
   ]
  },
  {
   "cell_type": "markdown",
   "metadata": {},
   "source": [
    "#### Test 5\n",
    "\n",
    "This test was successful. The final code I have used for the robot is the code I had for test 5. During test 5, the robot was able to do everything perfectly. It followed the rules and brought the red and yellow blocks back to its base without touching the blue and green blocks or falling off the board. The robot was working. This test did not need any further debugging. The code below is my final and ultimate robot code."
   ]
  },
  {
   "cell_type": "code",
   "execution_count": null,
   "metadata": {
    "vscode": {
     "languageId": "plaintext"
    }
   },
   "outputs": [],
   "source": [
    "#!/usr/bin/env pybricks-micropython\n",
    "\n",
    "\"\"\"\n",
    "Example LEGO® MINDSTORMS® EV3 Robot Educator Driving Base Program\n",
    "-----------------------------------------------------------------\n",
    "\n",
    "This program requires LEGO® EV3 MicroPython v2.0.\n",
    "Download: https://education.lego.com/en-us/support/mindstorms-ev3/python-for-ev3\n",
    "\n",
    "Building instructions can be found at:\n",
    "https://education.lego.com/en-us/support/mindstorms-ev3/building-instructions#robot\n",
    "\"\"\"\n",
    "\n",
    "from pybricks.hubs import EV3Brick\n",
    "from pybricks.ev3devices import Motor\n",
    "from pybricks.parameters import Port\n",
    "from pybricks.robotics import DriveBase # We will not be using any sensors for this project.\n",
    "\n",
    "# Initialize the EV3 Brick.\n",
    "ev3 = EV3Brick()\n",
    "\n",
    "# Initialize the motors.\n",
    "left_motor = Motor(Port.B)\n",
    "right_motor = Motor(Port.C)\n",
    "\n",
    "# Initialize the drive base.\n",
    "robot = DriveBase(left_motor, right_motor, wheel_diameter=55.5, axle_track=104)\n",
    "\n",
    "# The main code.\n",
    "ev3.speaker.beep() # Signal start\n",
    "\n",
    "robot.straight(525) # On the way to pick up the blocks.\n",
    "robot.turn(90)\n",
    "robot.straight(600) # The robot should've picked up the red block while performing this action.\n",
    "robot.turn(90)\n",
    "robot.straight(500) # The robot should've picked up the yellow block while performing this action.\n",
    "robot.turn(100) # Turn a bit more than before to avoid hitting the unwanted blocks.\n",
    "robot.straight(580) # Going back to base.\n",
    "robot.straight(-70) # The robot will go backwards by a bit to leave the blocks in the box without further interruptions\n",
    "\n",
    "# Celebration\n",
    "ev3.speaker.beep() # Signal end\n",
    "ev3.speaker.say(\"Mission completed successfully\")\n",
    "ev3.turn(1080) # The robot will spin 3 times to celebrate success"
   ]
  },
  {
   "cell_type": "markdown",
   "metadata": {},
   "source": [
    "### **Peer Evaluations**\n",
    "#### Peer 1 Name: [REDACTED]\n",
    "\n",
    "**When rating 1-5 with 1 being lacklustre effort and 5 being outstanding effort, how much effort do you feel this group member put into this project?**\n",
    "\n",
    "5/5\n",
    "\n",
    "Explain the reason for this score in detail: [REDACTED] did a fantastic job at writing the code and creating ideas for modifications that can be used on the robot. He dedicated many hours of his life to trying new things with the robot. [REDACTED] knew everything that should be done and was an excellent helper in our team. [REDACTED] is responsible, and resilient, and gives us guidance in the dark times where we could come up with no ideas. Overall, [REDACTED] did a fantastic job on this project.\n",
    "\n",
    "**When rating 1-5 with 1 being not at all and 5 being an exceptional amount, how much did this team member contribute to the team's efforts throughout this project?**\n",
    "\n",
    "5/5\n",
    "\n",
    "Explain the reason for this score in detail: [REDACTED] sacrificed many hours of his life helping us code the robot. [REDACTED] was never seen to be off task, and he always chose to work on the robot in his spare time. [REDACTED] put great effort into the project, and we thank him dearly.\n",
    "\n",
    "**When rating 1-5 with 1 being entirely non-functional and 5 being completely functional, how effective was this team member's final test case?**\n",
    "\n",
    "5/5\n",
    "\n",
    "Explain the reason for this score in detail: [REDACTED]’s final test case was very successful. The robot was seen complying with the code. [REDACTED] was able to code the robot to perform its given tasks in a very efficient way, without requiring too much code and parts for modifications. Although these limitations exist, [REDACTED] still had the skill set to code the robot in such a majestic way that the robot works to its maximum potential.\n",
    "\n",
    "**When rating 1-5 with 1 being not well at all and 5 being exceptionally well, how well do you think this team member performed throughout all stages of the project?**\n",
    "\n",
    "5/5\n",
    "\n",
    "Explain the reason for this score in detail: As perviously described, [REDACTED] was the reason for how we could have possibly been able to successfully program the robot to perform its given tasks. [REDACTED] contributed a great amount of effort to this task and he is very passionate about the success of our project.\n",
    "_____________________________________________________________________________________________________________________________________\n",
    "\n",
    "#### Peer 2 Name: [REDACTED]\n",
    "\n",
    "**When rating 1-5 with 1 being lacklustre effort and 5 being outstanding effort, how much effort do you feel this group member put into this project?**\n",
    "\n",
    "5/5\n",
    "\n",
    "Explain the reason for this score in detail: [REDACTED] has contributed a lot to our group. He is a young man who never gives up and attempts to seek challenges. [REDACTED] spent many hours writing extremely complex codes for the robot that none of us could ever understand what they do. [REDACTED] is not simple, he’s an adventurous spirit who likes to impress others by overcomplicating simple things to show off his knowledge and passion for programming.\n",
    "\n",
    "**When rating 1-5 with 1 being not at all and 5 being an exceptional amount, how much did this team member contribute to the team's efforts throughout this project?**\n",
    "\n",
    "5/5\n",
    "\n",
    "Explain the reason for this score in detail: Although we have not used his code as the final test code, he made a very beautiful attempt at trying. [REDACTED] is very resilient, and he will never give up on his mistakes. [REDACTED] will keep trying until he finally succeeds, and the only thing that stops him from doing so in this project is time. Otherwise, [REDACTED] would’ve had the potential to make the most beautiful code and robot performance in the class, which would shock everyone who sees it.\n",
    "\n",
    "**When rating 1-5 with 1 being entirely non-functional and 5 being completely functional, how effective was this team member's final test case?**\n",
    "\n",
    "2/5\n",
    "\n",
    "Explain the reason for this score in detail: The ⅖ mark for this category is nothing that should be frowned upon. Failure is the mother of success, and if one always seems to fail, one day they will soar in the sky with the wings of success. [REDACTED] is already very skilled, and mistakes happen to the best of us. If time was not a limitation, [REDACTED] would’ve had the most beautiful and jaw-dropping final test case in the class.\n",
    "\n",
    "**When rating 1-5 with 1 being not well at all and 5 being exceptionally well, how well do you think this team member performed throughout all stages of the project?**\n",
    "\n",
    "5/5\n",
    "\n",
    "Explain the reason for this score in detail: As previously described, [REDACTED] is a very humble young man who spends his lessons in class coding new ideas for the robot. [REDACTED] is very brilliant, and he is always coming up with new ideas and strategies for how to make the robot work as intended. [REDACTED] does not bother too much with testing, his only goal is to write the most beautiful and unbelievable code for the robot that will shock every one of us, and I strongly believe in him.\n"
   ]
  },
  {
   "cell_type": "markdown",
   "metadata": {},
   "source": [
    "### **Project Evaluation**\n",
    "\n",
    "**Evaluation of your INDIVIDUAL Final Test Case in Relation to Functional Criteria**\n",
    "\n",
    "My final test case was successful. I programmed my robot in a very simple way, without using much code or effort. If I compare the robot to the functional success criteria, I would say that my robot has achieved success. My robot was able to move forward, move backward, and turn, which are part of the most important criteria rules. I programmed the robot so that it was able to move a block into a desired location by grabbing the block and hooking it onto or in between the prongs. The robot was also able to avoid touching the other blocks due to the measurements and calculated angles being very precise. Eventually after some testing, my robot was also able to successfully bring the desired blocks back to the base without hitting any other blocks or falling off the board without any human intervention. The code was written well, and the measurements have been made correctly.\n",
    "\n",
    "**Evaluation of your INDIVIDUAL Final Test Case in Relation to Non-Functional Criteria**\n",
    "\n",
    "In terms of non-functional success criteria, I still did a very good job. The cables attached to the robot were sorted out neatly before the testing stages to prevent the robot’s wheel from getting stuck on its cables. For the attachments, I found Lego pieces that matched exactly one another in terms of colors and length, and built two same prongs to be used on the robot as a modification. The robot also comes with easy access to the buttons on the EV3 used to run the program. In terms of speed, although it's not at the fastest, the robot still moved decently fast, but I would not say that this criteria was **FULLY** achieved. In terms of scalability, both of the prongs are quite small in size, and it was always easy to attach and detach the pieces from the EV3. There never really was a struggle I faced when it comes to attaching and detaching the pieces as they can be added and removed from the EV3 with minimal effort, so I can confidently say that I have managed that as well.\n",
    "\n",
    "\n",
    "**Evaluation of your GROUP'S Final Performance in Relation to the Identified Need**\n",
    "\n",
    "For our group’s final robot performance, the needs were mostly satisfied. The robot was able to complete the task and comply with the task’s rules without any rule violations or failures through its well-tested and fluent code. The robot worked functionally, reliably, and efficiently, without the code needing too much effort to write and the modifications requiring too many parts. The code was written precisely by our team members with decent knowledge and experience in robotics and coding. The robot in the final test had not bumped into the forbidden blocks and managed to carry the desired blocks back to the base, resulting in ultimate success.\n",
    "\n",
    "\n",
    "**Evaluation of Project in Relation to Project Management**\n",
    "\n",
    "We managed the project very easily and efficiently. We contributed many hours of our lives writing the code and testing the robots, as well as making any necessary adjustments that should be made to improve the robot. We were very wise with our time, spending the desired amount of time on parts. We were also able to get over the stages of coding the robot very quickly, and we were able to move on to the next part easily and efficiently. We had not wasted any time on other trivial things, and the robot was our primary concern. As professional builders and programmers, we mostly did not face any real challenges.\n",
    "\n",
    "**Evaluation of Project in Relation to Team Collaboration**\n",
    "\n",
    "The team collaborated very well. We were always supportive of other people’s ideas and we used thorough and frequent communication to discuss ideas to use on our robot. Because of us all being very cooperative and cheerful, we combined ideas to program the best robot possible. Each team member did their part, and we worked together to write the code and build the modifications. Ideas on how the robot should bring the desired blocks back to the base were also discussed between us all, and it did not take us long to find a good idea of how the robot could bring the desired blocks back to the base.\n",
    "\n",
    "**Identification and Evaluation of Future Improvements to your Final Product**\n",
    "\n",
    "For future improvements to our robot, I would choose to remove the current modifications from the robot and brainstorm a completely new mechanic for a modification that is very special and brilliant, an idea that a commoner cannot easily brainstorm. Instead of adding prongs and letting the robot carry the blocks in between them, this new mechanic can be the robot using code and parts that can for example allow the robot to lift the part high in the air and put it down when it reaches the base. Because many people had first thought about prongs as a modification and letting the blocks slide in between the prongs as the mechanic, this modification idea is not special, so we could dedicate more time to creating a well-planned and thought-out modification idea that stands out from other people’s ideas. We could also make the code fancier, such as adding extra complex code and letting the robot perform unnecessary actions that could act as a flex to the audience, showing them how smart we are as programmers, and potentially creating admiration. However, this will not mess with the functionality of the robot, and we will program the robot in a way that makes it more spectacular but does not let it mess with the current success standards."
   ]
  }
 ],
 "metadata": {
  "kernelspec": {
   "display_name": "Python 3",
   "language": "python",
   "name": "python3"
  },
  "language_info": {
   "name": "python",
   "version": "3.11.0"
  },
  "orig_nbformat": 4
 },
 "nbformat": 4,
 "nbformat_minor": 2
}
